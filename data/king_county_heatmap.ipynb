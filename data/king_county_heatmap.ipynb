{
 "cells": [
  {
   "cell_type": "markdown",
   "id": "16851bb0-614f-45fe-ba0e-5b51e30431e3",
   "metadata": {},
   "source": [
    "# King County Heatmap"
   ]
  },
  {
   "cell_type": "markdown",
   "id": "9989898d-39c7-421f-bd48-4c7d755f8242",
   "metadata": {},
   "source": [
    "This notebook plots the King County housing sale file on a scatter heatmap."
   ]
  },
  {
   "cell_type": "markdown",
   "id": "a53d5623-393a-4583-8d00-5d3cf5b34cb3",
   "metadata": {},
   "source": [
    "This notebook uses a non-standard DSI library, named geopandas, as well as one named shapely."
   ]
  },
  {
   "cell_type": "code",
   "execution_count": null,
   "id": "8df41cf8-e188-4d21-9abb-b913475d14ac",
   "metadata": {},
   "outputs": [],
   "source": [
    "#decomment if you want to install\n",
    "#conda install -c conda-forge geopandas"
   ]
  },
  {
   "cell_type": "code",
   "execution_count": null,
   "id": "c236ed64-8225-4742-a8a8-2d6ff9625330",
   "metadata": {},
   "outputs": [],
   "source": [
    "#decomment if you want to install\n",
    "#conda install shapely"
   ]
  },
  {
   "cell_type": "code",
   "execution_count": null,
   "id": "10e1d8d0-ce0b-4023-a04a-79902b77d234",
   "metadata": {},
   "outputs": [],
   "source": [
    "#import the necessary libraries\n",
    "import geopandas as gpd\n",
    "from shapely.geometry import Point, Polygon"
   ]
  },
  {
   "cell_type": "code",
   "execution_count": null,
   "id": "65bcf92f-ddbe-4a39-bb8d-4ee0cfe9071c",
   "metadata": {},
   "outputs": [],
   "source": [
    "# King County Price Heatmap\n",
    "# with thanks to https://towardsdatascience.com/plotting-maps-with-geopandas-428c97295a73\n",
    "import warnings\n",
    "warnings.filterwarnings(\"ignore\")\n",
    "crs = {'init':'EPSG:4326'}\n",
    "geometry = [Point(xy) for xy in zip(df['long'], df['lat'])]\n",
    "geo_df = gpd.GeoDataFrame(df,\n",
    "                          crs = crs,\n",
    "                          geometry = geometry)\n",
    "fig, ax = plt.subplots(figsize=(20,10))\n",
    "kings_county_map.to_crs(epsg=4326).plot(ax=ax, color='0.6')\n",
    "geo_df.plot(column = 'ln_price', ax=ax, cmap='rainbow',\n",
    "           legend=False, legend_kwds={'shrink': 0.3},\n",
    "           markersize=8)\n",
    "ax.set_facecolor('lightblue')\n",
    "ax.set_ylabel(\"Latitude\")\n",
    "ax.set_xlabel(\"Longitude\")\n",
    "ax.set_title(\"King County Price Heatmap\")\n",
    "plt.savefig('Heat Map');"
   ]
  }
 ],
 "metadata": {
  "kernelspec": {
   "display_name": "Python (learn-env)",
   "language": "python",
   "name": "learn-env"
  },
  "language_info": {
   "codemirror_mode": {
    "name": "ipython",
    "version": 3
   },
   "file_extension": ".py",
   "mimetype": "text/x-python",
   "name": "python",
   "nbconvert_exporter": "python",
   "pygments_lexer": "ipython3",
   "version": "3.8.5"
  }
 },
 "nbformat": 4,
 "nbformat_minor": 5
}
